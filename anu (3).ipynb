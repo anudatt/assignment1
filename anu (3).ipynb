{
 "cells": [
  {
   "cell_type": "markdown",
   "id": "0ef77778-2b96-4304-9d53-20392934dede",
   "metadata": {},
   "source": [
    "# Heading 1\n",
    "\n",
    "My jupyter notebook in watson studio\n"
   ]
  },
  {
   "cell_type": "markdown",
   "id": "a608d13a-b5d8-45f1-9301-2ce050dd9299",
   "metadata": {},
   "source": [
    "**Bold\n",
    "A.Anuradha**\n",
    "I am currently unemployed,want to be a data scientist"
   ]
  },
  {
   "cell_type": "markdown",
   "id": "c9a47f6e-7dd7-4895-bf9a-8b7ddc37c24a",
   "metadata": {},
   "source": [
    "*I\n",
    "data scientist is very interesting subject ..\n",
    ".it is playing with data*"
   ]
  },
  {
   "cell_type": "markdown",
   "id": "7503d75b-7969-469a-a2bf-f74a662c2f2f",
   "metadata": {},
   "source": [
    "### header3\n",
    "  doing addition\n",
    " "
   ]
  },
  {
   "cell_type": "code",
   "execution_count": 1,
   "id": "81b95331-f9c1-4ada-afa4-82b478456b9d",
   "metadata": {},
   "outputs": [
    {
     "data": {
      "text/html": [
       "5"
      ],
      "text/latex": [
       "5"
      ],
      "text/markdown": [
       "5"
      ],
      "text/plain": [
       "[1] 5"
      ]
     },
     "metadata": {},
     "output_type": "display_data"
    }
   ],
   "source": [
    "2+3"
   ]
  },
  {
   "cell_type": "markdown",
   "id": "f8dc3f9c-5399-482b-928b-3f0ddac8064a",
   "metadata": {},
   "source": [
    "* List\n",
    "1 .one\n",
    "* List\n",
    "2 .two\n",
    "* List\n",
    "3 .three\n",
    "\n",
    "1. item 1\n",
    "2. item 2\n",
    "\n",
    "```\n",
    "\n",
    "```\n",
    "\n",
    "3. item 3\n",
    "\n",
    "![image](Desktop\\balatripura.jpg)\n",
    "\n"
   ]
  },
  {
   "cell_type": "code",
   "execution_count": null,
   "id": "2eddc368-c19d-4918-9cf6-03bec59cce29",
   "metadata": {},
   "outputs": [],
   "source": []
  }
 ],
 "metadata": {
  "kernelspec": {
   "display_name": "R",
   "language": "R",
   "name": "conda-env-r-r"
  },
  "language_info": {
   "codemirror_mode": "r",
   "file_extension": ".r",
   "mimetype": "text/x-r-source",
   "name": "R",
   "pygments_lexer": "r",
   "version": "3.5.1"
  },
  "toc-autonumbering": true,
  "toc-showmarkdowntxt": true,
  "toc-showtags": true
 },
 "nbformat": 4,
 "nbformat_minor": 5
}
